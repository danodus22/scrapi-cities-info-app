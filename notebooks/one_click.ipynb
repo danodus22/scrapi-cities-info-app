{
 "cells": [
  {
   "cell_type": "markdown",
   "metadata": {},
   "source": [
    "# Webscrape city data, Get API Weather, Airport & Arrival flights information"
   ]
  },
  {
   "cell_type": "code",
   "execution_count": null,
   "metadata": {},
   "outputs": [],
   "source": [
    "import sys\n",
    "sys.path.append('../src')\n",
    "\n",
    "import main\n",
    "\n",
    "# Enter the city names for which you want information\n",
    "# -------------------------------------------------------------------------------\n",
    "# Example: list_of_cities = ['Hamburg', 'Munich', 'London', 'New_York_City', 'Los_Angeles', 'Tokyo', 'Dubai', 'Bangkok', 'Wellington']\n",
    "# Example 2 for many-to-many airports & cities: list_of_cities = ['Basel', 'Mulhouse', 'Freiburg']\n",
    "# -------------------------------------------------------------------------------\n",
    "\n",
    "list_of_cities = ['Berlin','Hamburg', 'Munich', 'London', 'New_York_City', 'Los_Angeles', 'Tokyo', 'Dubai', 'Bangkok', 'Wellington']\n",
    "\n",
    "# Define a radius in which airports are to be displayed around the cities\n",
    "# -------------------------------------------------------------------------------\n",
    "radius = 35\n",
    "\n",
    "# What is the maximum number of airports you want to display\n",
    "# -------------------------------------------------------------------------------\n",
    "limit = 10\n",
    "\n",
    "cities_df = main.webscraping_function(list_of_cities)\n",
    "weather_df = main.get_weather_data(cities_df, config_path='../config.yml')\n",
    "airports_df = main.get_airports(cities_df, config_path='../config.yml', radius=radius, limit=limit)\n",
    "flights_df = main.get_flight_data_for_airports(airports_df)\n",
    "\n",
    "cities_df.to_excel(\"../docs/excel_exports/cities.xlsx\", index=False)\n",
    "weather_df.to_excel(\"../docs/excel_exports/weather.xlsx\", index=False)\n",
    "airports_df.to_excel(\"../docs/excel_exports/airports.xlsx\", index=False)\n",
    "flights_df.to_excel(\"../docs/excel_exports/flights.xlsx\", index=False)"
   ]
  },
  {
   "cell_type": "code",
   "execution_count": null,
   "metadata": {},
   "outputs": [],
   "source": [
    "# Or save information in one file\n",
    "# if needed\n",
    "# !pip install xlsxwriter\n",
    "\n",
    "output_path = \"../docs/excel_exports/Cities-data.xlsx\"\n",
    "\n",
    "# Create Excel file with all cities information\n",
    "with pd.ExcelWriter(output_path, engine='xlsxwriter') as writer:\n",
    "\tcities_df.to_excel(writer, sheet_name='Cities', index=False)\n",
    "\tweather_df.to_excel(writer, sheet_name='Weather', index=False)\n",
    "\tairports_df.to_excel(writer, sheet_name='Airports', index=False)\n",
    "\tflights_df.to_excel(writer, sheet_name='Flights', index=False)\n",
    "\n",
    "print(f\"DataFrames saved in {output_path} !\")"
   ]
  }
 ],
 "metadata": {
  "kernelspec": {
   "display_name": "base",
   "language": "python",
   "name": "python3"
  },
  "language_info": {
   "codemirror_mode": {
    "name": "ipython",
    "version": 3
   },
   "file_extension": ".py",
   "mimetype": "text/x-python",
   "name": "python",
   "nbconvert_exporter": "python",
   "pygments_lexer": "ipython3",
   "version": "3.12.7"
  }
 },
 "nbformat": 4,
 "nbformat_minor": 2
}
